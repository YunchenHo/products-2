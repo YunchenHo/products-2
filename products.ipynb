{
  "nbformat": 4,
  "nbformat_minor": 0,
  "metadata": {
    "colab": {
      "name": "products",
      "provenance": [],
      "collapsed_sections": [],
      "authorship_tag": "ABX9TyNu3cKtGjn3uJ6Z8+/o7l/s",
      "include_colab_link": true
    },
    "kernelspec": {
      "name": "python3",
      "display_name": "Python 3"
    }
  },
  "cells": [
    {
      "cell_type": "markdown",
      "metadata": {
        "id": "view-in-github",
        "colab_type": "text"
      },
      "source": [
        "<a href=\"https://colab.research.google.com/github/YunchenHo/products-2/blob/master/products.ipynb\" target=\"_parent\"><img src=\"https://colab.research.google.com/assets/colab-badge.svg\" alt=\"Open In Colab\"/></a>"
      ]
    },
    {
      "cell_type": "code",
      "metadata": {
        "id": "6YmhDOkT5HFX",
        "colab_type": "code",
        "colab": {}
      },
      "source": [
        "products = []\n",
        "while True:\n",
        "\tname = input('請輸入商品名稱: ')\n",
        "\tif name == 'q':\n",
        "\t\tbreak\n",
        "\tprice = input('請輸入商品價格: ')\n",
        "\tproducts.append([name, price])\n",
        "print(products)\n",
        "\n",
        "print(products[0][0])\n",
        "print(products[1][1])\n",
        "\n",
        "for p in products: #p=小清單\n",
        "\tprint(p[0], '的價格是', p[1])\n",
        "with open('product.csv', 'w', encoding = 'utf-8')as f: #csv=excel檔 encoding=編碼 utf-8=解決excel中文字亂碼問題\n",
        "  f.write('商品,價格\\n')\n",
        "  for p in products:\n",
        "    f.write(p[0] + ',' + p[1] + '\\n') #加逗號=excel分格 \\n=換行符號\n",
        "#header=欄位符號"
      ],
      "execution_count": null,
      "outputs": []
    },
    {
      "cell_type": "code",
      "metadata": {
        "id": "WUHgwKsUEr0i",
        "colab_type": "code",
        "colab": {}
      },
      "source": [
        "#practice\n",
        "data = [1, 3, 5, 7, 9] \n",
        "with open('text.txt','w')as f: \n",
        "  for i in data:\n",
        "    f.write(str(i) +'\\n')"
      ],
      "execution_count": null,
      "outputs": []
    }
  ]
}