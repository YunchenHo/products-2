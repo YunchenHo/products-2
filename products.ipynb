{
  "nbformat": 4,
  "nbformat_minor": 0,
  "metadata": {
    "colab": {
      "name": "products",
      "provenance": [],
      "collapsed_sections": [],
      "authorship_tag": "ABX9TyP19vjgXGV/xECFGAD8YAhy",
      "include_colab_link": true
    },
    "kernelspec": {
      "name": "python3",
      "display_name": "Python 3"
    }
  },
  "cells": [
    {
      "cell_type": "markdown",
      "metadata": {
        "id": "view-in-github",
        "colab_type": "text"
      },
      "source": [
        "<a href=\"https://colab.research.google.com/github/YunchenHo/products-2/blob/master/products.ipynb\" target=\"_parent\"><img src=\"https://colab.research.google.com/assets/colab-badge.svg\" alt=\"Open In Colab\"/></a>"
      ]
    },
    {
      "cell_type": "code",
      "metadata": {
        "id": "6YmhDOkT5HFX",
        "colab_type": "code",
        "colab": {
          "base_uri": "https://localhost:8080/",
          "height": 185
        },
        "outputId": "7aac7506-d59d-40e9-9cc6-61c7a04ad17e"
      },
      "source": [
        "products = []\n",
        "while True:\n",
        "\tname = input('請輸入商品名稱: ')\n",
        "\tif name == 'q':\n",
        "\t\tbreak\n",
        "\tprice = input('請輸入商品價格: ')\n",
        "\tproducts.append([name, price])\n",
        "print(products)\n",
        "\n",
        "print(products[0][0])\n",
        "print(products[1][1])\n",
        "\n",
        "for p in products: #p=小清單\n",
        "\tprint(p[0], '的價格是', p[1])\n",
        "with open('product.txt','w')as f:\n",
        "  for p in products:\n",
        "    f.write(p[0] + ',' + p[1] + '\\n')"
      ],
      "execution_count": null,
      "outputs": [
        {
          "output_type": "stream",
          "text": [
            "請輸入商品名稱: pasta\n",
            "請輸入商品價格: 280\n",
            "請輸入商品名稱: drink\n",
            "請輸入商品價格: 100\n",
            "請輸入商品名稱: q\n",
            "[['pasta', '280'], ['drink', '100']]\n",
            "pasta\n",
            "100\n",
            "pasta 的價格是 280\n",
            "drink 的價格是 100\n"
          ],
          "name": "stdout"
        }
      ]
    },
    {
      "cell_type": "code",
      "metadata": {
        "id": "yB5W5MMW85CY",
        "colab_type": "code",
        "colab": {}
      },
      "source": [
        ""
      ],
      "execution_count": null,
      "outputs": []
    }
  ]
}