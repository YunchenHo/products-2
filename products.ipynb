{
  "nbformat": 4,
  "nbformat_minor": 0,
  "metadata": {
    "colab": {
      "name": "products",
      "provenance": [],
      "collapsed_sections": [],
      "authorship_tag": "ABX9TyMWtEWCvofDtaBMoHIHGL+c",
      "include_colab_link": true
    },
    "kernelspec": {
      "name": "python3",
      "display_name": "Python 3"
    }
  },
  "cells": [
    {
      "cell_type": "markdown",
      "metadata": {
        "id": "view-in-github",
        "colab_type": "text"
      },
      "source": [
        "<a href=\"https://colab.research.google.com/github/YunchenHo/products-2/blob/master/products.ipynb\" target=\"_parent\"><img src=\"https://colab.research.google.com/assets/colab-badge.svg\" alt=\"Open In Colab\"/></a>"
      ]
    },
    {
      "cell_type": "code",
      "metadata": {
        "id": "6YmhDOkT5HFX",
        "colab_type": "code",
        "colab": {}
      },
      "source": [
        "#讀取檔案\n",
        "products = []\n",
        "with open('product.csv', 'r', encoding = 'utf-8')as f:\n",
        "\tfor line in f:\n",
        "\t\tif '商品,價格' in line:\n",
        "\t\t\tcontinue #continue=跳過這次迴圈(進行下次迴圈)，通常continue擺在很高的位置(才可跳過)\n",
        "\t\tname, price = line.strip().split(',') #split(',')=遇到,的時候就切割，split會將line變成清單\n",
        "\t\tproducts.append([name, price])\n",
        "print(products)\n",
        "\n",
        "#讓使用者輸入\n",
        "products = []\n",
        "while True:\n",
        "\tname = input('請輸入商品名稱: ')\n",
        "\tif name == 'q':\n",
        "\t\tbreak\n",
        "\tprice = input('請輸入商品價格: ')\n",
        "\tproducts.append([name, price])\n",
        "print(products)\n",
        "\n",
        "print(products[0][0])\n",
        "print(products[1][1])\n",
        "\n",
        "#印出所有購買紀錄\n",
        "for p in products: #p=小清單\n",
        "\tprint(p[0], '的價格是', p[1])\n",
        "\n",
        "#寫入檔案\n",
        "with open('product.csv', 'w', encoding = 'utf-8')as f: #csv=excel檔 encoding=編碼 utf-8=解決excel中文字亂碼(excel還要做其他更改)\n",
        "  f.write('商品,價格\\n')\n",
        "  for p in products:\n",
        "    f.write(p[0] + ',' + p[1] + '\\n') #加逗號=excel分格 \\n=換行符號 #csv寫入和讀取都會有編碼的問題(要用同一個編碼)\n",
        "#header=欄位符號\n",
        "#.strip()=去掉換行符號(只能用在字串)"
      ],
      "execution_count": null,
      "outputs": []
    },
    {
      "cell_type": "code",
      "metadata": {
        "id": "WUHgwKsUEr0i",
        "colab_type": "code",
        "colab": {}
      },
      "source": [
        "#practice\n",
        "data = [1, 3, 5, 7, 9] \n",
        "with open('text.txt','w')as f: \n",
        "  for i in data:\n",
        "    f.write(str(i) +'\\n')"
      ],
      "execution_count": null,
      "outputs": []
    }
  ]
}