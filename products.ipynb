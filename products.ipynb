{
  "nbformat": 4,
  "nbformat_minor": 0,
  "metadata": {
    "colab": {
      "name": "products",
      "provenance": [],
      "collapsed_sections": [],
      "authorship_tag": "ABX9TyOjYL8NWoVKvcIsLlEFOlsV",
      "include_colab_link": true
    },
    "kernelspec": {
      "name": "python3",
      "display_name": "Python 3"
    }
  },
  "cells": [
    {
      "cell_type": "markdown",
      "metadata": {
        "id": "view-in-github",
        "colab_type": "text"
      },
      "source": [
        "<a href=\"https://colab.research.google.com/github/YunchenHo/products-2/blob/master/products.ipynb\" target=\"_parent\"><img src=\"https://colab.research.google.com/assets/colab-badge.svg\" alt=\"Open In Colab\"/></a>"
      ]
    },
    {
      "cell_type": "code",
      "metadata": {
        "id": "6YmhDOkT5HFX",
        "colab_type": "code",
        "colab": {}
      },
      "source": [
        "import os #os=operating system(作業系統)\n",
        "\n",
        "products= []\n",
        "if os.path.isfile('product.csv'):#相對路徑 path=模組 isfile=功能(一個模組可以有很多個功能)，檢查檔案在不在\n",
        "\tprint('Yeah!找到檔案了!')\n",
        "#讀取檔案\t\n",
        "\twith open('product.csv', 'r', encoding = 'utf-8')as f:\n",
        "\t\tfor line in f:\n",
        "\t\t\tif '商品,價格' in line:\n",
        "\t\t\t\tcontinue #continue=跳過這次迴圈(進行下次迴圈)，通常continue擺在很高的位置(才可跳過)\n",
        "\t\t\tname, price = line.strip().split(',') #split(',')=遇到,的時候就切割，split會將line變成清單\n",
        "\t\t\tproducts.append([name, price])\n",
        "\tprint(products)\n",
        "else:\n",
        "\tprint('找不到檔案.....')\n",
        "\n",
        "#讓使用者輸入\n",
        "products = []\n",
        "while True:\n",
        "\tname = input('請輸入商品名稱: ')\n",
        "\tif name == 'q':\n",
        "\t\tbreak\n",
        "\tprice = input('請輸入商品價格: ')\n",
        "\tproducts.append([name, price])\n",
        "print(products)\n",
        "\n",
        "print(products[0][0])\n",
        "print(products[1][1])\n",
        "\n",
        "#印出所有購買紀錄\n",
        "for p in products: #p=小清單\n",
        "\tprint(p[0], '的價格是', p[1])\n",
        "\n",
        "#寫入檔案\n",
        "with open('product.csv', 'w', encoding = 'utf-8')as f: #csv=excel檔 encoding=編碼 utf-8=解決excel中文字亂碼(excel還要做其他更改)\n",
        "  f.write('商品,價格\\n')\n",
        "  for p in products:\n",
        "    f.write(p[0] + ',' + p[1] + '\\n') #加逗號=excel分格 \\n=換行符號 #csv寫入和讀取都會有編碼的問題(要用同一個編碼)\n",
        "#header=欄位符號\n",
        "#.strip()=去掉換行符號(只能用在字串)"
      ],
      "execution_count": null,
      "outputs": []
    },
    {
      "cell_type": "code",
      "metadata": {
        "id": "WUHgwKsUEr0i",
        "colab_type": "code",
        "colab": {}
      },
      "source": [
        "#practice\n",
        "data = [1, 3, 5, 7, 9] \n",
        "with open('text.txt','w')as f: \n",
        "  for i in data:\n",
        "    f.write(str(i) +'\\n')"
      ],
      "execution_count": null,
      "outputs": []
    }
  ]
}