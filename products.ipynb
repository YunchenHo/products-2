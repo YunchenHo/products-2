{
  "nbformat": 4,
  "nbformat_minor": 0,
  "metadata": {
    "colab": {
      "name": "products",
      "provenance": [],
      "collapsed_sections": [],
      "authorship_tag": "ABX9TyOkaOTAqi87Bn4jQRKtKVFV",
      "include_colab_link": true
    },
    "kernelspec": {
      "name": "python3",
      "display_name": "Python 3"
    }
  },
  "cells": [
    {
      "cell_type": "markdown",
      "metadata": {
        "id": "view-in-github",
        "colab_type": "text"
      },
      "source": [
        "<a href=\"https://colab.research.google.com/github/YunchenHo/products-2/blob/master/products.ipynb\" target=\"_parent\"><img src=\"https://colab.research.google.com/assets/colab-badge.svg\" alt=\"Open In Colab\"/></a>"
      ]
    },
    {
      "cell_type": "code",
      "metadata": {
        "id": "6YmhDOkT5HFX",
        "colab_type": "code",
        "colab": {}
      },
      "source": [
        "#refactor重構\n",
        "#function補充:function內容要單純.單一\n",
        "#header=欄位符號\n",
        "#.strip()=去掉換行符號(只能用在字串)\n",
        "\n",
        "import os #os=operating system(作業系統)\n",
        "\n",
        "#讀取檔案\n",
        "def read_file(filename):\n",
        "\tproducts= []\n",
        "\twith open(filename, 'r', encoding = 'utf-8')as f:\n",
        "\t\tfor line in f:\n",
        "\t\t\tif '商品,價格' in line:\n",
        "\t\t\t\tcontinue #continue=跳過這次迴圈(進行下次迴圈)，通常continue擺在很高的位置(才可跳過)\n",
        "\t\t\tname, price = line.strip().split(',') #split(',')=遇到,的時候就切割，split會將line變成清單\n",
        "\t\t\tproducts.append([name, price])\n",
        "\tprint(products)\n",
        "\treturn products\n",
        "\n",
        "#讓使用者輸入\n",
        "def user_input(products):\n",
        "\twhile True:\n",
        "\t\tname = input('請輸入商品名稱: ')\n",
        "\t\tif name == 'q':\n",
        "\t\t\tbreak\n",
        "\t\tprice = input('請輸入商品價格: ')\n",
        "\t\tproducts.append([name, price])\n",
        "\tprint(products)\n",
        "\treturn products\n",
        "\n",
        "#印出所有購買紀錄\n",
        "def print_products(products):\n",
        "\tfor p in products: #p=小清單\n",
        "\t\tprint(p[0], '的價格是', p[1])\n",
        "\n",
        "#寫入檔案\n",
        "def write_file(filename, products):\n",
        "\twith open(filename, 'w', encoding = 'utf-8')as f: #csv=excel檔 encoding=編碼 utf-8=解決excel中文字亂碼(excel還要做其他更改)\n",
        "\t\tf.write('商品,價格\\n')\n",
        "\t\tfor p in products:\n",
        "\t\t\tf.write(p[0] + ',' + p[1] + '\\n') #加逗號=excel分格 \\n=換行符號 #csv寫入和讀取都會有編碼的問題(要用同一個編碼)\n",
        "\n",
        "def main(): #main function:主要執行的程式碼\n",
        "\tfilename = 'products.csv'\n",
        "\tif os.path.isfile(filename): #相對路徑 path=模組 isfile=功能(1模組=>多功能)(檢查檔案在不在)\n",
        "\t\tprint('Yeah!找到檔案了!')\n",
        "\t\tproducts = read_file(filename)\n",
        "\telse:\n",
        "\t\tprint('找不到檔案')\n",
        "main()\n",
        "\n",
        "products = user_input(products)\n",
        "print_products(products) #沒有return無法存取function執行結果\n",
        "write_file('products.csv', products) #沒有return無法存取function執行結果\n"
      ],
      "execution_count": null,
      "outputs": []
    },
    {
      "cell_type": "code",
      "metadata": {
        "id": "CcsM0DZkFNNo",
        "colab_type": "code",
        "colab": {}
      },
      "source": [
        "#old version\n",
        "#function補充:function內容要單純&單一\n",
        "#header=欄位符號\n",
        "#.strip()=去掉換行符號(只能用在字串)\n",
        "\n",
        "import os #os=operating system(作業系統)\n",
        "\n",
        "#讀取檔案\n",
        "def read_file(filename):\n",
        "  products = []\n",
        "  if os.path.isfile(filename):#相對路徑 path=模組 isfile=功能(1模組=>多功能)(檢查檔案在不在)\n",
        "    print('Yeah!找到檔案了!')\n",
        "    with open(filename, 'r', encoding = 'utf-8')as f:\n",
        "      for line in f:\n",
        "        if '商品,價格' in line:\n",
        "          continue #continue=跳過這次迴圈(進行下次迴圈)，通常continue擺在很高的位置(才可跳過)\n",
        "        name, price = line.strip().split(',') #split(',')=遇到,的時候就切割，split會將line變成清單\n",
        "        products.append([name, price])\n",
        "    print(products)\n",
        "  else:\n",
        "    print('找不到檔案')\n",
        "  return products\n",
        "#讓使用者輸入\n",
        "def user_input(products):\n",
        "  while True:\n",
        "    name = input('請輸入商品名稱: ')\n",
        "    if name == 'q':\n",
        "      break\n",
        "    price = input('請輸入商品價格: ')\n",
        "    products.append([name, price])\n",
        "  print(products)\n",
        "  return products\n",
        "#印出所有購買紀錄\n",
        "def print_products(products):\n",
        "\tfor p in products: #p=小清單\n",
        "\t\tprint(p[0], '的價格是', p[1])\n",
        "#寫入檔案\n",
        "def write_file(filename, products):\n",
        "\twith open(filename, 'w', encoding = 'utf-8')as f: #csv=excel檔 encoding=編碼 utf-8=解決excel中文字亂碼(excel還要做其他更改)\n",
        "\t\tf.write('商品,價格\\n')\n",
        "\t\tfor p in products:\n",
        "\t\t\tf.write(p[0] + ',' + p[1] + '\\n') #加逗號=excel分格 \\n=換行符號 #csv寫入和讀取都會有編碼的問題(要用同一個編碼)\n",
        "\n",
        "\t\n",
        "products = read_file('products.csv')\n",
        "products = user_input(products)\n",
        "print_products(products)#沒有return無法存取function執行結果\n",
        "write_file('products.csv', products) #沒有return無法存取function執行結果"
      ],
      "execution_count": null,
      "outputs": []
    },
    {
      "cell_type": "code",
      "metadata": {
        "id": "WUHgwKsUEr0i",
        "colab_type": "code",
        "colab": {}
      },
      "source": [
        "#function-practice\n",
        "data = [1, 3, 5, 7, 9] \n",
        "with open('text.txt','w')as f: \n",
        "  for i in data:\n",
        "    f.write(str(i) +'\\n')"
      ],
      "execution_count": null,
      "outputs": []
    }
  ]
}